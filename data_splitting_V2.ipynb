{
 "cells": [
  {
   "cell_type": "markdown",
   "id": "3f7a973e",
   "metadata": {},
   "source": [
    "Turns out we had more data to use than I previously thought. This is just a copy of the previous notebook, after merging all data into a folder called 'data/all_data/'"
   ]
  },
  {
   "cell_type": "code",
   "execution_count": 3,
   "id": "cfa878d9",
   "metadata": {},
   "outputs": [],
   "source": [
    "from sklearn.model_selection import train_test_split\n",
    "import pandas as pd\n",
    "import numpy as np\n",
    "import os, os.path as osp"
   ]
  },
  {
   "cell_type": "code",
   "execution_count": 7,
   "id": "fa934b16",
   "metadata": {},
   "outputs": [],
   "source": [
    "path_ims = 'data/all_data/'"
   ]
  },
  {
   "cell_type": "markdown",
   "id": "e044ac10",
   "metadata": {},
   "source": [
    "See here: https://sites.google.com/view/kpis2024/data?authuser=0, each subfolder contains a wsi split into patches. It is important to be careful and not put those patches in different train/val sets."
   ]
  },
  {
   "cell_type": "code",
   "execution_count": 8,
   "id": "a7c52917",
   "metadata": {},
   "outputs": [],
   "source": [
    "path_ims_56nx = osp.join(path_ims, '56Nx')\n",
    "path_ims_dn = osp.join(path_ims, 'DN')\n",
    "path_ims_nep25 = osp.join(path_ims, 'NEP25')\n",
    "path_ims_normal = osp.join(path_ims, 'normal')"
   ]
  },
  {
   "cell_type": "markdown",
   "id": "aed9deb4",
   "metadata": {},
   "source": [
    "Come up with a list of paths to all slides"
   ]
  },
  {
   "cell_type": "code",
   "execution_count": 9,
   "id": "fb740cc5",
   "metadata": {},
   "outputs": [
    {
     "data": {
      "text/plain": [
       "38"
      ]
     },
     "execution_count": 9,
     "metadata": {},
     "output_type": "execute_result"
    }
   ],
   "source": [
    "slides_list_56_nx = os.listdir(path_ims_56nx)\n",
    "slides_list_56_nx = [osp.join(path_ims_56nx, n) for n in os.listdir(path_ims_56nx)]\n",
    "\n",
    "slides_list_dn = os.listdir(path_ims_dn)\n",
    "slides_list_dn = [osp.join(path_ims_dn, n) for n in os.listdir(path_ims_dn)]\n",
    "\n",
    "slides_list_nep25 = os.listdir(path_ims_nep25)\n",
    "slides_list_nep25 = [osp.join(path_ims_nep25, n) for n in os.listdir(path_ims_nep25)]\n",
    "\n",
    "slides_list_normal = os.listdir(path_ims_normal)\n",
    "slides_list_normal = [osp.join(path_ims_normal, n) for n in os.listdir(path_ims_normal)]\n",
    "\n",
    "all_slides_list = slides_list_56_nx+slides_list_dn+slides_list_nep25+slides_list_normal\n",
    "len(all_slides_list) # was 30 before"
   ]
  },
  {
   "cell_type": "markdown",
   "id": "8a3446d7",
   "metadata": {},
   "source": [
    "Random split these into five data folds:"
   ]
  },
  {
   "cell_type": "code",
   "execution_count": 20,
   "id": "23e921ee",
   "metadata": {},
   "outputs": [],
   "source": [
    "num_slides = len(all_slides_list)\n",
    "meh, val1  = train_test_split(all_slides_list, test_size=num_slides//5, random_state=10)\n",
    "meh, val2  = train_test_split(meh,    test_size=num_slides//5, random_state=10)\n",
    "meh, val3  = train_test_split(meh,    test_size=num_slides//5, random_state=10)\n",
    "val5, val4 = train_test_split(meh,test_size=num_slides//5, random_state=10)"
   ]
  },
  {
   "cell_type": "markdown",
   "id": "529a6356",
   "metadata": {},
   "source": [
    "Build validation and train sets, not as slides but as patches"
   ]
  },
  {
   "cell_type": "code",
   "execution_count": 21,
   "id": "53102557",
   "metadata": {},
   "outputs": [],
   "source": [
    "train1 = val2+val3+val4+val5\n",
    "train2 = val3+val4+val5+val1\n",
    "train3 = val4+val5+val1+val2\n",
    "train4 = val5+val1+val2+val3\n",
    "train5 = val1+val2+val3+val4"
   ]
  },
  {
   "cell_type": "code",
   "execution_count": 22,
   "id": "309a1634",
   "metadata": {},
   "outputs": [],
   "source": [
    "def get_img_mask_list_from_slide(slide_path):\n",
    "    im_path = osp.join(slide_path, 'img')\n",
    "    mask_path = osp.join(slide_path, 'mask')\n",
    "    \n",
    "    im_list_this_slide = sorted(os.listdir(im_path))\n",
    "    mask_list_this_slide = sorted(os.listdir(mask_path))\n",
    "    \n",
    "    im_list_this_slide = [osp.join(slide_path, 'img', n) for n in im_list_this_slide]\n",
    "    mask_list_this_slide = [osp.join(slide_path, 'mask', n) for n in mask_list_this_slide]\n",
    "    return im_list_this_slide, mask_list_this_slide"
   ]
  },
  {
   "cell_type": "code",
   "execution_count": 23,
   "id": "fe556fa7",
   "metadata": {},
   "outputs": [],
   "source": [
    "# generate dataframes\n",
    "columns = ('im_path', 'mask_path')"
   ]
  },
  {
   "cell_type": "code",
   "execution_count": 24,
   "id": "66d4a260",
   "metadata": {},
   "outputs": [
    {
     "data": {
      "text/plain": [
       "(5509, 2)"
      ]
     },
     "execution_count": 24,
     "metadata": {},
     "output_type": "execute_result"
    }
   ],
   "source": [
    "tr_patches_f1, tr_masks_f1 = [], []\n",
    "for slide in train1:\n",
    "    patches, masks = get_img_mask_list_from_slide(slide)\n",
    "    tr_patches_f1.extend(patches)\n",
    "    tr_masks_f1.extend(masks)\n",
    "\n",
    "df_tr_f1 = pd.DataFrame(data=zip(tr_patches_f1, tr_masks_f1), columns=columns)\n",
    "df_tr_f1.shape"
   ]
  },
  {
   "cell_type": "code",
   "execution_count": 25,
   "id": "7dc0bf8d",
   "metadata": {},
   "outputs": [],
   "source": [
    "def build_patchwise_df(slide_list):\n",
    "    patch_list, mask_list = [], []\n",
    "    for slide in slide_list:\n",
    "        patches, masks = get_img_mask_list_from_slide(slide)\n",
    "        patch_list.extend(patches)\n",
    "        mask_list.extend(masks)\n",
    "\n",
    "    return pd.DataFrame(data=zip(patch_list, mask_list), columns=columns)"
   ]
  },
  {
   "cell_type": "code",
   "execution_count": 26,
   "id": "82151953",
   "metadata": {},
   "outputs": [
    {
     "data": {
      "text/plain": [
       "(5509, 2)"
      ]
     },
     "execution_count": 26,
     "metadata": {},
     "output_type": "execute_result"
    }
   ],
   "source": [
    "df_tr_f1 = build_patchwise_df(train1)\n",
    "df_tr_f1.shape"
   ]
  },
  {
   "cell_type": "code",
   "execution_count": 28,
   "id": "53e89a84",
   "metadata": {},
   "outputs": [
    {
     "data": {
      "text/plain": [
       "((5509, 2), (5982, 2), (5443, 2), (5372, 2), (5590, 2))"
      ]
     },
     "execution_count": 28,
     "metadata": {},
     "output_type": "execute_result"
    }
   ],
   "source": [
    "## NOW\n",
    "df_tr_f1 = build_patchwise_df(train1)\n",
    "df_tr_f2 = build_patchwise_df(train2)\n",
    "df_tr_f3 = build_patchwise_df(train3)\n",
    "df_tr_f4 = build_patchwise_df(train4)\n",
    "df_tr_f5 = build_patchwise_df(train5)\n",
    "df_tr_f1.shape, df_tr_f2.shape, df_tr_f3.shape, df_tr_f4.shape, df_tr_f5.shape"
   ]
  },
  {
   "cell_type": "markdown",
   "id": "bfe51768",
   "metadata": {},
   "source": [
    "That looks quite well-balanced. Let us build validation dataframes."
   ]
  },
  {
   "cell_type": "code",
   "execution_count": 30,
   "id": "ea365be6",
   "metadata": {},
   "outputs": [
    {
     "data": {
      "text/plain": [
       "((1465, 2), (992, 2), (1531, 2), (1602, 2), (1384, 2))"
      ]
     },
     "execution_count": 30,
     "metadata": {},
     "output_type": "execute_result"
    }
   ],
   "source": [
    "df_vl_f1 = build_patchwise_df(val1)\n",
    "df_vl_f2 = build_patchwise_df(val2)\n",
    "df_vl_f3 = build_patchwise_df(val3)\n",
    "df_vl_f4 = build_patchwise_df(val4)\n",
    "df_vl_f5 = build_patchwise_df(val5)\n",
    "df_vl_f1.shape, df_vl_f2.shape, df_vl_f3.shape, df_vl_f4.shape, df_vl_f5.shape"
   ]
  },
  {
   "cell_type": "markdown",
   "id": "425938e3",
   "metadata": {},
   "source": [
    "Allrighty, ready to go, let us save these."
   ]
  },
  {
   "cell_type": "code",
   "execution_count": 31,
   "id": "20cb90b4",
   "metadata": {},
   "outputs": [],
   "source": [
    "df_tr_f1.to_csv('data/tr_all_f1.csv', index=False)\n",
    "df_tr_f2.to_csv('data/tr_all_f2.csv', index=False)\n",
    "df_tr_f3.to_csv('data/tr_all_f3.csv', index=False)\n",
    "df_tr_f4.to_csv('data/tr_all_f4.csv', index=False)\n",
    "df_tr_f5.to_csv('data/tr_all_f5.csv', index=False)"
   ]
  },
  {
   "cell_type": "code",
   "execution_count": 32,
   "id": "e076e8af",
   "metadata": {},
   "outputs": [],
   "source": [
    "df_vl_f1.to_csv('data/vl_all_f1.csv', index=False)\n",
    "df_vl_f2.to_csv('data/vl_all_f2.csv', index=False)\n",
    "df_vl_f3.to_csv('data/vl_all_f3.csv', index=False)\n",
    "df_vl_f4.to_csv('data/vl_all_f4.csv', index=False)\n",
    "df_vl_f5.to_csv('data/vl_all_f5.csv', index=False)"
   ]
  },
  {
   "cell_type": "code",
   "execution_count": null,
   "id": "5d148b81",
   "metadata": {},
   "outputs": [],
   "source": []
  }
 ],
 "metadata": {
  "kernelspec": {
   "display_name": "nnunet",
   "language": "python",
   "name": "nnunet"
  },
  "language_info": {
   "codemirror_mode": {
    "name": "ipython",
    "version": 3
   },
   "file_extension": ".py",
   "mimetype": "text/x-python",
   "name": "python",
   "nbconvert_exporter": "python",
   "pygments_lexer": "ipython3",
   "version": "3.10.11"
  }
 },
 "nbformat": 4,
 "nbformat_minor": 5
}
